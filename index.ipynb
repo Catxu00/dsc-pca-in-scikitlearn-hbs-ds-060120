{
 "cells": [
  {
   "cell_type": "markdown",
   "metadata": {},
   "source": [
    "# Principal Component Analysis in scikit-learn\n",
    "\n",
    "## Introduction\n",
    "\n",
    "Now that you've seen the curse of dimensionality, it's time to take a look at a dimensionality reduction technique! This will help you overcome the challenges of the curse of dimensionality (amongst other things). Essentially, PCA, or Principal Component Analysis, attempts to capture as much information from the dataset as possible while reducing the overall number of features.\n",
    "\n",
    "## Objectives\n",
    "\n",
    "You will be able to:\n",
    "\n",
    "- Explain at a high level how PCA works \n",
    "- Explain use cases for PCA \n",
    "- Implement PCA using the scikit-learn library \n",
    "- Determine the optimal number of n components when performing PCA by observing the explained variance \n",
    "\n",
    "\n",
    "## Generate some data\n",
    "\n",
    "First, you need some data to perform PCA on. With that, here's a quick dataset you can generate using NumPy:"
   ]
  },
  {
   "cell_type": "code",
   "execution_count": 1,
   "metadata": {},
   "outputs": [],
   "source": [
    "import numpy as np\n",
    "\n",
    "x1 = np.linspace(-10, 10, 100)\n",
    "# A linear relationship, plus a little noise\n",
    "x2 = np.array([xi*2 + np.random.normal(loc=0, scale=0.5) for xi in x1]) \n",
    "\n",
    "X = np.matrix(list(zip(x1, x2)))"
   ]
  },
  {
   "cell_type": "markdown",
   "metadata": {},
   "source": [
    "Let's also generate a quick plot of this simple dataset to further orient ourselves:"
   ]
  },
  {
   "cell_type": "code",
   "execution_count": 2,
   "metadata": {},
   "outputs": [
    {
     "data": {
      "image/png": "[encoded data removed]",
      "text/plain": [
       "<Figure size 432x288 with 1 Axes>"
      ]
     },
     "metadata": {},
     "output_type": "display_data"
    }
   ],
   "source": [
    "import matplotlib.pyplot as plt\n",
    "import seaborn as sns\n",
    "%matplotlib inline\n",
    "\n",
    "sns.set_style('darkgrid')\n",
    "\n",
    "plt.scatter(x1, x2);"
   ]
  },
  {
   "cell_type": "markdown",
   "metadata": {},
   "source": [
    "## PCA with scikit-learn\n",
    "\n",
    "Now onto PCA. First, take a look at how simple it is to implement PCA with scikit-learn:"
   ]
  },
  {
   "cell_type": "code",
   "execution_count": 3,
   "metadata": {},
   "outputs": [],
   "source": [
    "from sklearn.decomposition import PCA\n",
    "\n",
    "pca = PCA()\n",
    "transformed = pca.fit_transform(X)"
   ]
  },
  {
   "cell_type": "markdown",
   "metadata": {},
   "source": [
    "And you can once again plot the updated dataset:"
   ]
  },
  {
   "cell_type": "code",
   "execution_count": 8,
   "metadata": {},
   "outputs": [
    {
     "data": {
      "text/plain": [
       "array([[ 2.20002312e+01, -1.52666583e-01],\n",
       "       [ 2.23118225e+01,  2.29626851e-01],\n",
       "       [ 2.18553196e+01,  2.26665138e-01],\n",
       "       [ 2.01614073e+01, -3.96947291e-01],\n",
       "       [ 2.06548207e+01,  7.65431019e-02],\n",
       "       [ 2.01730420e+01,  6.09037969e-02],\n",
       "       [ 1.99184703e+01,  1.59225281e-01],\n",
       "       [ 1.95291094e+01,  1.89940201e-01],\n",
       "       [ 1.85863561e+01, -5.69114168e-02],\n",
       "       [ 1.78089554e+01, -2.20826669e-01],\n",
       "       [ 1.83238507e+01,  2.63438486e-01],\n",
       "       [ 1.75807696e+01,  1.16736987e-01],\n",
       "       [ 1.71429791e+01,  1.23160968e-01],\n",
       "       [ 1.68128140e+01,  1.83566880e-01],\n",
       "       [ 1.50880192e+01, -4.55535420e-01],\n",
       "       [ 1.63083485e+01,  3.82556215e-01],\n",
       "       [ 1.49364585e+01, -7.95386730e-02],\n",
       "       [ 1.47521728e+01,  5.40363732e-02],\n",
       "       [ 1.40729955e+01, -6.06127057e-02],\n",
       "       [ 1.40725688e+01,  1.65181012e-01],\n",
       "       [ 1.27980010e+01, -2.48099698e-01],\n",
       "       [ 1.26279153e+01, -1.07402331e-01],\n",
       "       [ 1.26258163e+01,  1.17552570e-01],\n",
       "       [ 1.24977639e+01,  2.79332695e-01],\n",
       "       [ 1.15441101e+01,  2.70137292e-02],\n",
       "       [ 1.12292317e+01,  9.50870285e-02],\n",
       "       [ 1.00894553e+01, -2.50585991e-01],\n",
       "       [ 1.01901320e+01,  2.59184021e-02],\n",
       "       [ 9.58414160e+00, -5.20221129e-02],\n",
       "       [ 9.33622070e+00,  4.96352480e-02],\n",
       "       [ 8.77609485e+00, -5.30087334e-03],\n",
       "       [ 8.75335165e+00,  2.09299478e-01],\n",
       "       [ 7.69134908e+00, -9.73643050e-02],\n",
       "       [ 6.78497836e+00, -3.25967402e-01],\n",
       "       [ 7.33242164e+00,  1.74622923e-01],\n",
       "       [ 7.21163423e+00,  3.40046976e-01],\n",
       "       [ 5.31561064e+00, -3.84938988e-01],\n",
       "       [ 5.91929762e+00,  1.43861641e-01],\n",
       "       [ 4.62777537e+00, -2.77922950e-01],\n",
       "       [ 4.20860510e+00, -2.62159598e-01],\n",
       "       [ 3.94887016e+00, -1.66427836e-01],\n",
       "       [ 4.00845105e+00,  8.94640326e-02],\n",
       "       [ 3.58429817e+00,  1.02728240e-01],\n",
       "       [ 2.89794021e+00, -1.55224586e-02],\n",
       "       [ 3.01860787e+00,  2.71008866e-01],\n",
       "       [ 1.17732315e+00, -4.26521576e-01],\n",
       "       [ 1.32154570e+00, -1.28175763e-01],\n",
       "       [ 5.77554623e-01, -2.75333662e-01],\n",
       "       [ 1.83647640e-01, -2.46898935e-01],\n",
       "       [-1.93003233e-01, -2.09809013e-01],\n",
       "       [ 1.02141162e-02,  1.18126981e-01],\n",
       "       [-9.87448783e-01, -1.56265780e-01],\n",
       "       [-1.83427087e+00, -3.55000908e-01],\n",
       "       [-1.52338976e+00,  2.69362902e-02],\n",
       "       [-2.00790711e+00,  9.92333240e-03],\n",
       "       [-2.28136413e+00,  9.87724711e-02],\n",
       "       [-3.22632835e+00, -1.49188070e-01],\n",
       "       [-3.36557909e+00,  6.97527692e-03],\n",
       "       [-3.51773461e+00,  1.56665940e-01],\n",
       "       [-4.38707487e+00, -5.33636888e-02],\n",
       "       [-5.54234078e+00, -4.06805817e-01],\n",
       "       [-4.81728625e+00,  1.82869467e-01],\n",
       "       [-5.12971915e+00,  2.52169371e-01],\n",
       "       [-5.40623174e+00,  3.39485922e-01],\n",
       "       [-6.35636980e+00,  8.89303178e-02],\n",
       "       [-6.92473970e+00,  2.98592096e-02],\n",
       "       [-7.04437889e+00,  1.95859174e-01],\n",
       "       [-7.72618270e+00,  7.98927116e-02],\n",
       "       [-9.22555500e+00, -4.46143791e-01],\n",
       "       [-8.52063145e+00,  1.33434340e-01],\n",
       "       [-9.53983712e+00, -1.51763686e-01],\n",
       "       [-9.14844855e+00,  2.70553858e-01],\n",
       "       [-9.69247571e+00,  2.23692402e-01],\n",
       "       [-1.10075048e+01, -2.09882600e-01],\n",
       "       [-1.12525081e+01, -1.06761838e-01],\n",
       "       [-1.19807890e+01, -2.46039913e-01],\n",
       "       [-1.27465616e+01, -4.04122830e-01],\n",
       "       [-1.21991029e+01,  9.64752251e-02],\n",
       "       [-1.28049706e+01,  1.85962265e-02],\n",
       "       [-1.30449996e+01,  1.24211951e-01],\n",
       "       [-1.35839966e+01,  7.98734833e-02],\n",
       "       [-1.45969444e+01, -2.02185770e-01],\n",
       "       [-1.51157751e+01, -2.36409358e-01],\n",
       "       [-1.50019539e+01,  4.66879464e-02],\n",
       "       [-1.49564171e+01,  2.95535714e-01],\n",
       "       [-1.64307170e+01, -2.17925167e-01],\n",
       "       [-1.67730369e+01, -1.63615771e-01],\n",
       "       [-1.64049349e+01,  2.47021873e-01],\n",
       "       [-1.77654925e+01, -2.09388999e-01],\n",
       "       [-1.77357498e+01,  3.15368744e-02],\n",
       "       [-1.81345315e+01,  5.75265614e-02],\n",
       "       [-1.79020318e+01,  4.00149792e-01],\n",
       "       [-1.82050981e+01,  4.74147730e-01],\n",
       "       [-1.97141332e+01, -5.67353801e-02],\n",
       "       [-1.97482887e+01,  1.52140861e-01],\n",
       "       [-2.05036770e+01, -7.33553435e-04],\n",
       "       [-2.09451081e+01,  3.86435744e-03],\n",
       "       [-2.10631291e+01,  1.70675968e-01],\n",
       "       [-2.16686782e+01,  9.29567746e-02],\n",
       "       [-2.22784420e+01,  1.31236439e-02]])"
      ]
     },
     "execution_count": 8,
     "metadata": {},
     "output_type": "execute_result"
    }
   ],
   "source": [
    "transformed"
   ]
  },
  {
   "cell_type": "code",
   "execution_count": 4,
   "metadata": {},
   "outputs": [
    {
     "data": {
      "image/png": "[encoded data removed]",
      "text/plain": [
       "<Figure size 432x288 with 1 Axes>"
      ]
     },
     "metadata": {
      "needs_background": "light"
     },
     "output_type": "display_data"
    }
   ],
   "source": [
    "plt.scatter(transformed[:,0], transformed[:,1]);"
   ]
  },
  {
   "cell_type": "code",
   "execution_count": 9,
   "metadata": {},
   "outputs": [
    {
     "data": {
      "text/plain": [
       "array([[-0.44833787, -0.89386417],\n",
       "       [ 0.89386417, -0.44833787]])"
      ]
     },
     "execution_count": 9,
     "metadata": {},
     "output_type": "execute_result"
    }
   ],
   "source": [
    "pca.components_"
   ]
  },
  {
   "cell_type": "code",
   "execution_count": 10,
   "metadata": {},
   "outputs": [
    {
     "data": {
      "text/plain": [
       "array([7.10542736e-17, 6.34358364e-02])"
      ]
     },
     "execution_count": 10,
     "metadata": {},
     "output_type": "execute_result"
    }
   ],
   "source": [
    "pca.mean_"
   ]
  },
  {
   "cell_type": "markdown",
   "metadata": {},
   "source": [
    "## Interpret Results\n",
    "\n",
    "Let's take a look at what went on here. PCA transforms the dataset along principal axes. The first of these axes is designed to capture the maximum variance within the data. From here, additional axes are constructed which are orthogonal to the previous axes and continue to account for as much of the remaining variance as possible.\n",
    "\n",
    "For the current 2-d case, the axes which the data were projected onto look like this:"
   ]
  },
  {
   "cell_type": "code",
   "execution_count": 11,
   "metadata": {},
   "outputs": [
    {
     "data": {
      "image/png": "[encoded data removed]",
      "text/plain": [
       "<Figure size 432x288 with 1 Axes>"
      ]
     },
     "metadata": {
      "needs_background": "light"
     },
     "output_type": "display_data"
    }
   ],
   "source": [
    "plt.scatter(x1, x2);\n",
    "ax1, ay1 = pca.mean_[0], pca.mean_[1]\n",
    "ax2, ay2 = pca.mean_[0] + pca.components_[0][0], pca.mean_[1] + pca.components_[0][1]\n",
    "ax3, ay3 = pca.mean_[0] + pca.components_[1][0], pca.mean_[1] + pca.components_[1][1]\n",
    "plt.plot([ax1, ax2], [ay1, ay2], color='red')\n",
    "plt.plot([ax2, ax3], [ay2, ay3], color='red');"
   ]
  },
  {
   "cell_type": "markdown",
   "metadata": {},
   "source": [
    "So, the updated graph you saw is the same dataset rotated onto these red axes:"
   ]
  },
  {
   "cell_type": "code",
   "execution_count": 12,
   "metadata": {},
   "outputs": [
    {
     "data": {
      "image/png": "[encoded data removed]",
      "text/plain": [
       "<Figure size 432x288 with 1 Axes>"
      ]
     },
     "metadata": {
      "needs_background": "light"
     },
     "output_type": "display_data"
    }
   ],
   "source": [
    "plt.scatter(transformed[:,0], transformed[:,1])\n",
    "plt.axhline(color='red')\n",
    "plt.axvline(color='red');"
   ]
  },
  {
   "cell_type": "markdown",
   "metadata": {},
   "source": [
    "Note the small scale of the y-axis. You can also plot the transformed dataset on the new axes with a scale similar to what you saw before:"
   ]
  },
  {
   "cell_type": "code",
   "execution_count": 9,
   "metadata": {
    "scrolled": true
   },
   "outputs": [
    {
     "data": {
      "image/png": "[encoded data removed]",
      "text/plain": [
       "<Figure size 432x288 with 1 Axes>"
      ]
     },
     "metadata": {
      "needs_background": "light"
     },
     "output_type": "display_data"
    }
   ],
   "source": [
    "plt.scatter(transformed[:,0], transformed[:,1])\n",
    "plt.axhline(color='red')\n",
    "plt.axvline(color='red')\n",
    "plt.ylim(-10,10);"
   ]
  },
  {
   "cell_type": "markdown",
   "metadata": {},
   "source": [
    "Again, this is the geographical interpretation of what just happened:  \n",
    "\n",
    "<img src=\"images/inhouse_pca.png\">"
   ]
  },
  {
   "cell_type": "markdown",
   "metadata": {},
   "source": [
    "## Determine the Explained Variance\n",
    "\n",
    "Typically, one would use PCA to actually reduce the number of dimensions. In this case, you've simply re-re-parametrized the dataset along new axes. That said, if you look at the first of these primary axes, you can see the patterns encapsulated by the principal component. Moreover, scikit-learn also lets you quickly determine the overall variance in the dataset accounted for in each of the principal components."
   ]
  },
  {
   "cell_type": "code",
   "execution_count": 10,
   "metadata": {},
   "outputs": [
    {
     "data": {
      "text/plain": [
       "array([9.99717770e-01, 2.82229957e-04])"
      ]
     },
     "execution_count": 10,
     "metadata": {},
     "output_type": "execute_result"
    }
   ],
   "source": [
    "pca.explained_variance_ratio_"
   ]
  },
  {
   "cell_type": "markdown",
   "metadata": {},
   "source": [
    "Keep in mind that these quantities are cumulative: principal component 2 attempts to account for the variance not accounted for in the primary component. You can view the total variance using `np.cumsum()`:"
   ]
  },
  {
   "cell_type": "code",
   "execution_count": 11,
   "metadata": {},
   "outputs": [
    {
     "data": {
      "text/plain": [
       "array([0.99971777, 1.        ])"
      ]
     },
     "execution_count": 11,
     "metadata": {},
     "output_type": "execute_result"
    }
   ],
   "source": [
    "np.cumsum(pca.explained_variance_ratio_)"
   ]
  },
  {
   "cell_type": "markdown",
   "metadata": {},
   "source": [
    "## Visualize the Principal Component\n",
    "\n",
    "To help demonstrate the structure captured by the first principal component, observe the impact of coloring the dataset and then visualizing the first component."
   ]
  },
  {
   "cell_type": "code",
   "execution_count": 12,
   "metadata": {},
   "outputs": [
    {
     "data": {
      "image/png": "[encoded data removed]",
      "text/plain": [
       "<Figure size 432x288 with 1 Axes>"
      ]
     },
     "metadata": {
      "needs_background": "light"
     },
     "output_type": "display_data"
    }
   ],
   "source": [
    "plt.scatter(x1,x2, c=sns.color_palette('RdBu', n_colors=100));"
   ]
  },
  {
   "cell_type": "code",
   "execution_count": 13,
   "metadata": {},
   "outputs": [
    {
     "data": {
      "image/png": "[encoded data removed]",
      "text/plain": [
       "<Figure size 432x288 with 1 Axes>"
      ]
     },
     "metadata": {
      "needs_background": "light"
     },
     "output_type": "display_data"
    }
   ],
   "source": [
    "plt.scatter(transformed[:,0], [0 for i in range(100)] , c=sns.color_palette('RdBu', n_colors=100));"
   ]
  },
  {
   "cell_type": "markdown",
   "metadata": {},
   "source": [
    "## Steps for Performing PCA\n",
    "\n",
    "The theory behind PCA rests upon many foundational concepts of linear algebra. After all, PCA is re-encoding a dataset into an alternative basis (the axes). Here are the exact steps:\n",
    "\n",
    "1. Recenter each feature of the dataset by subtracting that feature's mean from the feature vector\n",
    "2. Calculate the covariance matrix for your centered dataset\n",
    "3. Calculate the eigenvectors of the covariance matrix\n",
    "    1. You'll further investigate the concept of eigenvectors in the upcoming lesson\n",
    "4. Project the dataset into the new feature space: Multiply the eigenvectors by the mean-centered features"
   ]
  },
  {
   "cell_type": "markdown",
   "metadata": {},
   "source": [
    "You can see some of these intermediate steps from the `pca` instance object itself. "
   ]
  },
  {
   "cell_type": "code",
   "execution_count": 14,
   "metadata": {},
   "outputs": [
    {
     "data": {
      "text/plain": [
       "array([7.10542736e-17, 2.61587597e-02])"
      ]
     },
     "execution_count": 14,
     "metadata": {},
     "output_type": "execute_result"
    }
   ],
   "source": [
    "# Pulling up the original feature means which were used to center the data\n",
    "pca.mean_ "
   ]
  },
  {
   "cell_type": "code",
   "execution_count": 15,
   "metadata": {},
   "outputs": [
    {
     "data": {
      "text/plain": [
       "array([[ 34.35023637,  68.62012556],\n",
       "       [ 68.62012556, 137.32181974]])"
      ]
     },
     "execution_count": 15,
     "metadata": {},
     "output_type": "execute_result"
    }
   ],
   "source": [
    "# Pulling up the covariance matrix of the mean centered data\n",
    "pca.get_covariance() "
   ]
  },
  {
   "cell_type": "code",
   "execution_count": 16,
   "metadata": {},
   "outputs": [
    {
     "data": {
      "text/plain": [
       "array([[ 0.44712728,  0.89447035],\n",
       "       [-0.89447035,  0.44712728]])"
      ]
     },
     "execution_count": 16,
     "metadata": {},
     "output_type": "execute_result"
    }
   ],
   "source": [
    "# Pulling up the eigenvectors of the covariance matrix\n",
    "pca.components_ "
   ]
  },
  {
   "cell_type": "markdown",
   "metadata": {},
   "source": [
    "##  Summary\n",
    "In this lesson, you looked at implementing PCA with scikit-learn and the geometric interpretations of principal components. From here, you'll get a chance to practice implementing PCA yourself before going on to code some of the underlying components implemented by scikit-learn using NumPy."
   ]
  }
 ],
 "metadata": {
  "anaconda-cloud": {},
  "kernelspec": {
   "display_name": "Python 3",
   "language": "python",
   "name": "python3"
  },
  "language_info": {
   "codemirror_mode": {
    "name": "ipython",
    "version": 3
   },
   "file_extension": ".py",
   "mimetype": "text/x-python",
   "name": "python",
   "nbconvert_exporter": "python",
   "pygments_lexer": "ipython3",
   "version": "3.6.9"
  }
 },
 "nbformat": 4,
 "nbformat_minor": 1
}
